{
  "nbformat": 4,
  "nbformat_minor": 0,
  "metadata": {
    "colab": {
      "provenance": [],
      "authorship_tag": "ABX9TyOIy0e678APnacKyRkXl2zv",
      "include_colab_link": true
    },
    "kernelspec": {
      "name": "python3",
      "display_name": "Python 3"
    },
    "language_info": {
      "name": "python"
    }
  },
  "cells": [
    {
      "cell_type": "markdown",
      "metadata": {
        "id": "view-in-github",
        "colab_type": "text"
      },
      "source": [
        "<a href=\"https://colab.research.google.com/github/ethanrosswomack/EverLightOS/blob/main/Amazon_RME_BridgeOps.ipynb\" target=\"_parent\"><img src=\"https://colab.research.google.com/assets/colab-badge.svg\" alt=\"Open In Colab\"/></a>"
      ]
    },
    {
      "cell_type": "code",
      "execution_count": 1,
      "metadata": {
        "colab": {
          "base_uri": "https://localhost:8080/"
        },
        "id": "k32piWZ7wFyF",
        "outputId": "2a6b29d6-6053-492b-e7e4-03a411af8b5d"
      },
      "outputs": [
        {
          "output_type": "stream",
          "name": "stdout",
          "text": [
            "✅ Repo scaffolded under: Amazon_RME_BridgeOps\n"
          ]
        }
      ],
      "source": [
        "import os\n",
        "from datetime import datetime\n",
        "\n",
        "# Base structure\n",
        "BASE = \"Amazon_RME_BridgeOps\"\n",
        "DIRS = [\n",
        "    \"notebooks\", \"data/raw\", \"data/processed\",\n",
        "    \"logs\", \"reports/summaries\", \"reports/screenshots\", \"scripts\"\n",
        "]\n",
        "NOTEBOOKS = {\n",
        "    \"00_RME_AccessMap.ipynb\": \"# Access Map + Group Decode\\n\\n\",\n",
        "    \"01_SiteIntegrationLog.ipynb\": \"# Site-Level Observations (e.g., Persis + DBAA)\\n\\n\",\n",
        "    \"02_Dashboard_Infiltration.ipynb\": \"# Dashboard & Data Layer Analysis\\n\\n\",\n",
        "    \"03_Anomalies_and_Flows.ipynb\": \"# Facility Anomalies, Traffic, Policy Notes\\n\\n\"\n",
        "}\n",
        "\n",
        "# Create dirs\n",
        "for d in DIRS:\n",
        "    os.makedirs(os.path.join(BASE, d), exist_ok=True)\n",
        "\n",
        "# Create notebooks with placeholders\n",
        "for fname, content in NOTEBOOKS.items():\n",
        "    path = os.path.join(BASE, \"notebooks\", fname)\n",
        "    if not os.path.exists(path):\n",
        "        with open(path, \"w\") as f:\n",
        "            f.write(content)\n",
        "\n",
        "# Create README\n",
        "readme_path = os.path.join(BASE, \"README.md\")\n",
        "if not os.path.exists(readme_path):\n",
        "    with open(readme_path, \"w\") as f:\n",
        "        f.write(\"# Amazon RME BridgeOps Repo\\n\\nThis repo logs field-level integration and dashboard activity.\\n\")\n",
        "\n",
        "# Create generator script\n",
        "gen_script = '''\\\n",
        "import os\n",
        "from datetime import date\n",
        "\n",
        "def init_daily_notebook():\n",
        "    today = date.today().isoformat()\n",
        "    path = f\"notebooks/{today}_field_log.ipynb\"\n",
        "    if not os.path.exists(path):\n",
        "        with open(path, \"w\") as f:\n",
        "            f.write(f\"# Field Log — {today}\\\\n\\\\n## Observations\\\\n\\\\n## Actions Taken\\\\n\\\\n## Follow-ups\\\\n\")\n",
        "    print(f\"Notebook created: {path}\")\n",
        "\n",
        "init_daily_notebook()\n",
        "'''\n",
        "with open(os.path.join(BASE, \"scripts\", \"init_daily_notebook.py\"), \"w\") as f:\n",
        "    f.write(gen_script)\n",
        "\n",
        "print(f\"✅ Repo scaffolded under: {BASE}\")\n"
      ]
    }
  ]
}